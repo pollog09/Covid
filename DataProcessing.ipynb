{
 "cells": [
  {
   "cell_type": "code",
   "execution_count": null,
   "metadata": {
    "colab": {
     "base_uri": "https://localhost:8080/"
    },
    "executionInfo": {
     "elapsed": 1848,
     "status": "ok",
     "timestamp": 1733555563343,
     "user": {
      "displayName": "Victoria Contreras Cambronero",
      "userId": "04884173306610585385"
     },
     "user_tz": 360
    },
    "id": "aXFUHF2k2rBI",
    "outputId": "7fe553f3-d14d-4ec9-f872-5354c34abf92"
   },
   "outputs": [
    {
     "name": "stdout",
     "output_type": "stream",
     "text": [
      "Drive already mounted at /content/drive; to attempt to forcibly remount, call drive.mount(\"/content/drive\", force_remount=True).\n",
      "Procesamiento completo para: 031.jpeg\n",
      "Procesamiento completo para: COVID-00036.jpg\n",
      "Procesamiento completo para: 023.jpeg\n",
      "Todas las imágenes procesadas se han guardado en: /content/drive/My Drive/processed_images\n"
     ]
    }
   ],
   "source": [
    "import cv2\n",
    "import os\n",
    "import numpy as np\n",
    "\n",
    "\n",
    "# Ruta de la carpeta en Google Drive donde están las imágenes\n",
    "input_folder = '/content/drive/My Drive/IMAGENESCOVID'\n",
    "output_folder = '/content/drive/My Drive/processed_images'\n",
    "\n",
    "# Crear la carpeta de salida si no existe\n",
    "os.makedirs(output_folder, exist_ok=True)\n",
    "\n",
    "# Procesar cada imagen en la carpeta de entrada\n",
    "for image_name in os.listdir(input_folder):\n",
    "    image_path = os.path.join(input_folder, image_name)\n",
    "\n",
    "    # Leer la imagen\n",
    "    image = cv2.imread(image_path)\n",
    "\n",
    "    if image is None:\n",
    "        print(f\"No se pudo leer la imagen: {image_name}\")\n",
    "        continue\n",
    "\n",
    "    # Aplicar Blur Filter\n",
    "    blur = cv2.GaussianBlur(image, (15, 15), 0)\n",
    "\n",
    "    # Aplicar Sobel Edge Detection\n",
    "    gray = cv2.cvtColor(image, cv2.COLOR_BGR2GRAY)  # Convertir a escala de grises\n",
    "    sobel_x = cv2.Sobel(gray, cv2.CV_64F, 1, 0, ksize=3)\n",
    "    sobel_y = cv2.Sobel(gray, cv2.CV_64F, 0, 1, ksize=3)\n",
    "    sobel = cv2.magnitude(sobel_x, sobel_y)\n",
    "    sobel = cv2.convertScaleAbs(sobel)  # Convertir para visualizar\n",
    "\n",
    "    # Aplicar Canny Edge Detection\n",
    "    canny = cv2.Canny(gray, 100, 200)\n",
    "\n",
    "    # Aplicar Laplacian Edge Detection\n",
    "    laplacian = cv2.Laplacian(gray, cv2.CV_64F)  # Detectar bordes\n",
    "    laplacian = cv2.convertScaleAbs(laplacian)   # Convertir para visualizar\n",
    "\n",
    "    # Guardar los resultados en el sistema de archivos\n",
    "    base_name = os.path.splitext(image_name)[0]\n",
    "    cv2.imwrite(os.path.join(output_folder, f\"{base_name}_blur.jpg\"), blur)\n",
    "    cv2.imwrite(os.path.join(output_folder, f\"{base_name}_sobel.jpg\"), sobel)\n",
    "    cv2.imwrite(os.path.join(output_folder, f\"{base_name}_canny.jpg\"), canny)\n",
    "    cv2.imwrite(os.path.join(output_folder, f\"{base_name}_laplacian.jpg\"), laplacian)\n",
    "\n",
    "    print(f\"Procesamiento completo para: {image_name}\")\n",
    "\n",
    "print(f\"Todas las imágenes procesadas se han guardado en: {output_folder}\")\n"
   ]
  },
  {
   "cell_type": "code",
   "execution_count": 27,
   "metadata": {
    "colab": {
     "base_uri": "https://localhost:8080/"
    },
    "executionInfo": {
     "elapsed": 18138,
     "status": "ok",
     "timestamp": 1733555587938,
     "user": {
      "displayName": "Victoria Contreras Cambronero",
      "userId": "04884173306610585385"
     },
     "user_tz": 360
    },
    "id": "DXWjjqIl8AyJ",
    "outputId": "f1e25c5c-4d09-4e3d-9b20-c176306dd546"
   },
   "outputs": [
    {
     "name": "stdout",
     "output_type": "stream",
     "text": [
      "Drive already mounted at /content/drive; to attempt to forcibly remount, call drive.mount(\"/content/drive\", force_remount=True).\n",
      "Procesamiento completo para: 044_blur.jpg, 12 imágenes generadas.\n",
      "Procesamiento completo para: 044_sobel.jpg, 12 imágenes generadas.\n",
      "Procesamiento completo para: 044_canny.jpg, 12 imágenes generadas.\n",
      "Procesamiento completo para: 044_laplacian.jpg, 12 imágenes generadas.\n",
      "Procesamiento completo para: 074_blur.jpg, 12 imágenes generadas.\n",
      "Procesamiento completo para: 074_sobel.jpg, 12 imágenes generadas.\n",
      "Procesamiento completo para: 074_canny.jpg, 12 imágenes generadas.\n",
      "Procesamiento completo para: 074_laplacian.jpg, 12 imágenes generadas.\n",
      "Procesamiento completo para: 071_blur.jpg, 12 imágenes generadas.\n",
      "Procesamiento completo para: 071_sobel.jpg, 12 imágenes generadas.\n",
      "Procesamiento completo para: 071_canny.jpg, 12 imágenes generadas.\n",
      "Procesamiento completo para: 071_laplacian.jpg, 12 imágenes generadas.\n",
      "Procesamiento completo para: 031_blur.jpg, 12 imágenes generadas.\n",
      "Procesamiento completo para: 031_sobel.jpg, 12 imágenes generadas.\n",
      "Procesamiento completo para: 031_canny.jpg, 12 imágenes generadas.\n",
      "Procesamiento completo para: 031_laplacian.jpg, 12 imágenes generadas.\n",
      "Procesamiento completo para: COVID-00036_blur.jpg, 12 imágenes generadas.\n",
      "Procesamiento completo para: COVID-00036_sobel.jpg, 12 imágenes generadas.\n",
      "Procesamiento completo para: COVID-00036_canny.jpg, 12 imágenes generadas.\n",
      "Procesamiento completo para: COVID-00036_laplacian.jpg, 12 imágenes generadas.\n",
      "Procesamiento completo para: 023_blur.jpg, 12 imágenes generadas.\n",
      "Procesamiento completo para: 023_sobel.jpg, 12 imágenes generadas.\n",
      "Procesamiento completo para: 023_canny.jpg, 12 imágenes generadas.\n",
      "Procesamiento completo para: 023_laplacian.jpg, 12 imágenes generadas.\n",
      "Imágenes iniciales: 24\n",
      "Imágenes después del aumento de datos: 312\n",
      "Imágenes aumentadas guardadas en: /content/drive/My Drive/augmented_images\n"
     ]
    }
   ],
   "source": [
    "import cv2\n",
    "import os\n",
    "import numpy as np\n",
    "from google.colab import drive\n",
    "\n",
    "# Montar Google Drive\n",
    "drive.mount('/content/drive')\n",
    "\n",
    "# Definir las rutas de la carpeta de entrada (donde están las imágenes) y la de salida (donde se guardarán las imágenes aumentadas)\n",
    "input_folder = '/content/drive/My Drive/processed_images'  # Ruta de la carpeta con las imágenes en Google Drive\n",
    "output_folder = '/content/drive/My Drive/augmented_images'  # Ruta de la carpeta donde se guardarán las imágenes aumentadas\n",
    "\n",
    "# Crear la carpeta de salida si no existe\n",
    "os.makedirs(output_folder, exist_ok=True)\n",
    "\n",
    "# Funciones de aumento de datos\n",
    "def augment_image(image):\n",
    "    augmented = []\n",
    "\n",
    "    # Rotaciones: 90°, 180°, 270°\n",
    "    rows, cols = image.shape[:2]\n",
    "    for angle in [90, 180, 270]:\n",
    "        M = cv2.getRotationMatrix2D((cols / 2, rows / 2), angle, 1)\n",
    "        rotated = cv2.warpAffine(image, M, (cols, rows))\n",
    "        augmented.append(rotated)\n",
    "\n",
    "    # Escalado: 0.5x y 1.5x\n",
    "    for scale in [0.5, 1.5]:\n",
    "        scaled = cv2.resize(image, None, fx=scale, fy=scale, interpolation=cv2.INTER_LINEAR)\n",
    "        augmented.append(scaled)\n",
    "\n",
    "    # Traslaciones: izquierda, derecha, arriba, abajo\n",
    "    for dx, dy in [(-50, 0), (50, 0), (0, -50), (0, 50)]:\n",
    "        M = np.float32([[1, 0, dx], [0, 1, dy]])\n",
    "        translated = cv2.warpAffine(image, M, (cols, rows))\n",
    "        augmented.append(translated)\n",
    "\n",
    "    # Volteos: horizontal, vertical\n",
    "    augmented.append(cv2.flip(image, 1))  # Volteo horizontal\n",
    "    augmented.append(cv2.flip(image, 0))  # Volteo vertical\n",
    "\n",
    "    # Filtro adicional: Escala de grises\n",
    "    gray = cv2.cvtColor(image, cv2.COLOR_BGR2GRAY)  # Convertir a escala de grises\n",
    "    augmented.append(cv2.cvtColor(gray, cv2.COLOR_GRAY2BGR))  # Convertir a formato 3 canales para guardar\n",
    "\n",
    "    return augmented\n",
    "\n",
    "# Obtener la lista de archivos en la carpeta de entrada\n",
    "image_files = os.listdir(input_folder)\n",
    "\n",
    "# Procesar imágenes y aplicar aumento de datos\n",
    "initial_count = len(image_files)\n",
    "final_count = 0\n",
    "\n",
    "for image_name in image_files:\n",
    "    try:\n",
    "        # Leer la imagen desde Google Drive\n",
    "        image_path = os.path.join(input_folder, image_name)\n",
    "        image = cv2.imread(image_path)\n",
    "\n",
    "        if image is None:\n",
    "            print(f\"No se pudo leer la imagen: {image_name}\")\n",
    "            continue\n",
    "\n",
    "        # Aplicar las transformaciones\n",
    "        augmented_images = augment_image(image)\n",
    "        final_count += len(augmented_images)\n",
    "\n",
    "        # Guardar las imágenes aumentadas\n",
    "        base_name = os.path.splitext(image_name)[0]\n",
    "        for i, aug_image in enumerate(augmented_images):\n",
    "            output_path = os.path.join(output_folder, f\"{base_name}_aug_{i+1}.jpg\")\n",
    "            cv2.imwrite(output_path, aug_image)\n",
    "\n",
    "        print(f\"Procesamiento completo para: {image_name}, {len(augmented_images)} imágenes generadas.\")\n",
    "    except Exception as e:\n",
    "        print(f\"Error procesando {image_name}: {e}\")\n",
    "\n",
    "# Verificar si la carpeta tiene imágenes\n",
    "if len(os.listdir(output_folder)) == 0:\n",
    "    print(\"La carpeta de imágenes aumentadas está vacía. Verifica el proceso de escritura.\")\n",
    "else:\n",
    "    print(f\"Imágenes iniciales: {initial_count}\")\n",
    "    print(f\"Imágenes después del aumento de datos: {initial_count + final_count}\")\n",
    "    print(f\"Imágenes aumentadas guardadas en: {output_folder}\")\n"
   ]
  }
 ],
 "metadata": {
  "colab": {
   "authorship_tag": "ABX9TyOq4XiewAAGUV9R1Tfkzr/S",
   "provenance": []
  },
  "kernelspec": {
   "display_name": "Python 3",
   "name": "python3"
  },
  "language_info": {
   "name": "python"
  }
 },
 "nbformat": 4,
 "nbformat_minor": 0
}
