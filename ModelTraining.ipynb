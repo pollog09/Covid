{
 "cells": [
  {
   "cell_type": "markdown",
   "metadata": {},
   "source": [
    "1. Selección del modelo\n",
    "\n",
    "\n",
    "### Justificación:\n",
    "- ResNet50 es conocido por su capacidad de manejar redes profundas sin problemas de degradación.\n",
    "- VGG16 es simple y efectivo, con un buen equilibrio entre profundidad y rendimiento."
   ]
  },
  {
   "cell_type": "code",
   "execution_count": 1,
   "metadata": {},
   "outputs": [
    {
     "name": "stderr",
     "output_type": "stream",
     "text": [
      "c:\\Users\\Administrator\\Documents\\Projects\\Covid\\.venv\\lib\\site-packages\\torchvision\\models\\_utils.py:208: UserWarning: The parameter 'pretrained' is deprecated since 0.13 and may be removed in the future, please use 'weights' instead.\n",
      "  warnings.warn(\n",
      "c:\\Users\\Administrator\\Documents\\Projects\\Covid\\.venv\\lib\\site-packages\\torchvision\\models\\_utils.py:223: UserWarning: Arguments other than a weight enum or `None` for 'weights' are deprecated since 0.13 and may be removed in the future. The current behavior is equivalent to passing `weights=ResNet50_Weights.IMAGENET1K_V1`. You can also use `weights=ResNet50_Weights.DEFAULT` to get the most up-to-date weights.\n",
      "  warnings.warn(msg)\n",
      "Downloading: \"https://download.pytorch.org/models/resnet50-0676ba61.pth\" to C:\\Users\\Administrator/.cache\\torch\\hub\\checkpoints\\resnet50-0676ba61.pth\n",
      "100%|██████████| 97.8M/97.8M [00:03<00:00, 30.9MB/s]\n",
      "c:\\Users\\Administrator\\Documents\\Projects\\Covid\\.venv\\lib\\site-packages\\torchvision\\models\\_utils.py:223: UserWarning: Arguments other than a weight enum or `None` for 'weights' are deprecated since 0.13 and may be removed in the future. The current behavior is equivalent to passing `weights=VGG16_Weights.IMAGENET1K_V1`. You can also use `weights=VGG16_Weights.DEFAULT` to get the most up-to-date weights.\n",
      "  warnings.warn(msg)\n"
     ]
    }
   ],
   "source": [
    "from torchvision import models\n",
    "\n",
    "# Selección de modelos\n",
    "model1 = models.resnet50(pretrained=True)\n",
    "model2 = models.vgg16(pretrained=True)\n",
    "\n"
   ]
  },
  {
   "cell_type": "markdown",
   "metadata": {},
   "source": [
    "2. Preprocesamiento de imágenes"
   ]
  },
  {
   "cell_type": "code",
   "execution_count": null,
   "metadata": {},
   "outputs": [
    {
     "ename": "error",
     "evalue": "OpenCV(4.10.0) D:\\a\\opencv-python\\opencv-python\\opencv\\modules\\imgproc\\src\\bilateral_filter.dispatch.cpp:409: error: (-215:Assertion failed) !_src.empty() in function 'cv::bilateralFilter'\n",
     "output_type": "error",
     "traceback": [
      "\u001b[1;31m---------------------------------------------------------------------------\u001b[0m",
      "\u001b[1;31merror\u001b[0m                                     Traceback (most recent call last)",
      "Cell \u001b[1;32mIn[2], line 30\u001b[0m\n\u001b[0;32m     27\u001b[0m output_dir_canny \u001b[38;5;241m=\u001b[39m \u001b[38;5;124m'\u001b[39m\u001b[38;5;124mdataset/output\u001b[39m\u001b[38;5;124m'\u001b[39m\n\u001b[0;32m     29\u001b[0m \u001b[38;5;66;03m# Preprocesamiento\u001b[39;00m\n\u001b[1;32m---> 30\u001b[0m \u001b[43mpreprocess_images\u001b[49m\u001b[43m(\u001b[49m\u001b[43minput_dir\u001b[49m\u001b[43m,\u001b[49m\u001b[43m \u001b[49m\u001b[43moutput_dir_bilateral\u001b[49m\u001b[43m,\u001b[49m\u001b[43m \u001b[49m\u001b[38;5;124;43m'\u001b[39;49m\u001b[38;5;124;43mbilateral\u001b[39;49m\u001b[38;5;124;43m'\u001b[39;49m\u001b[43m)\u001b[49m\n\u001b[0;32m     31\u001b[0m preprocess_images(input_dir, output_dir_canny, \u001b[38;5;124m'\u001b[39m\u001b[38;5;124mcanny\u001b[39m\u001b[38;5;124m'\u001b[39m)\n",
      "Cell \u001b[1;32mIn[2], line 15\u001b[0m, in \u001b[0;36mpreprocess_images\u001b[1;34m(input_dir, output_dir, preprocess_type)\u001b[0m\n\u001b[0;32m     12\u001b[0m img \u001b[38;5;241m=\u001b[39m cv2\u001b[38;5;241m.\u001b[39mimread(img_path, cv2\u001b[38;5;241m.\u001b[39mIMREAD_GRAYSCALE)\n\u001b[0;32m     14\u001b[0m \u001b[38;5;28;01mif\u001b[39;00m preprocess_type \u001b[38;5;241m==\u001b[39m \u001b[38;5;124m'\u001b[39m\u001b[38;5;124mbilateral\u001b[39m\u001b[38;5;124m'\u001b[39m:\n\u001b[1;32m---> 15\u001b[0m     processed_img \u001b[38;5;241m=\u001b[39m \u001b[43mcv2\u001b[49m\u001b[38;5;241;43m.\u001b[39;49m\u001b[43mbilateralFilter\u001b[49m\u001b[43m(\u001b[49m\u001b[43mimg\u001b[49m\u001b[43m,\u001b[49m\u001b[43m \u001b[49m\u001b[38;5;241;43m9\u001b[39;49m\u001b[43m,\u001b[49m\u001b[43m \u001b[49m\u001b[38;5;241;43m75\u001b[39;49m\u001b[43m,\u001b[49m\u001b[43m \u001b[49m\u001b[38;5;241;43m75\u001b[39;49m\u001b[43m)\u001b[49m\n\u001b[0;32m     16\u001b[0m \u001b[38;5;28;01melif\u001b[39;00m preprocess_type \u001b[38;5;241m==\u001b[39m \u001b[38;5;124m'\u001b[39m\u001b[38;5;124mcanny\u001b[39m\u001b[38;5;124m'\u001b[39m:\n\u001b[0;32m     17\u001b[0m     processed_img \u001b[38;5;241m=\u001b[39m cv2\u001b[38;5;241m.\u001b[39mCanny(img, \u001b[38;5;241m100\u001b[39m, \u001b[38;5;241m200\u001b[39m)\n",
      "\u001b[1;31merror\u001b[0m: OpenCV(4.10.0) D:\\a\\opencv-python\\opencv-python\\opencv\\modules\\imgproc\\src\\bilateral_filter.dispatch.cpp:409: error: (-215:Assertion failed) !_src.empty() in function 'cv::bilateralFilter'\n"
     ]
    }
   ],
   "source": [
    "import cv2\n",
    "import os\n",
    "from torchvision import transforms\n",
    "from PIL import Image\n",
    "\n",
    "def preprocess_images(input_dir, output_dir, preprocess_type):\n",
    "    if not os.path.exists(output_dir):\n",
    "        os.makedirs(output_dir)\n",
    "    \n",
    "    for filename in os.listdir(input_dir):\n",
    "        img_path = os.path.join(input_dir, filename)\n",
    "        img = cv2.imread(img_path, cv2.IMREAD_GRAYSCALE)\n",
    "        \n",
    "        if preprocess_type == 'bilateral':\n",
    "            processed_img = cv2.bilateralFilter(img, 9, 75, 75)\n",
    "        elif preprocess_type == 'canny':\n",
    "            processed_img = cv2.Canny(img, 100, 200)\n",
    "        else:\n",
    "            processed_img = img\n",
    "        \n",
    "        output_path = os.path.join(output_dir, filename)\n",
    "        cv2.imwrite(output_path, processed_img)\n",
    "\n",
    "# Directorios de entrada y salida\n",
    "input_dir = 'dataset/2/Covid19-dataset'\n",
    "output_dir_bilateral = 'dataset/output_bilateral'\n",
    "output_dir_canny = 'dataset/output_canny'\n",
    "\n",
    "# Preprocesamiento\n",
    "preprocess_images(input_dir, output_dir_bilateral, 'bilateral')\n",
    "preprocess_images(input_dir, output_dir_canny, 'canny')"
   ]
  }
 ],
 "metadata": {
  "kernelspec": {
   "display_name": ".venv",
   "language": "python",
   "name": "python3"
  },
  "language_info": {
   "codemirror_mode": {
    "name": "ipython",
    "version": 3
   },
   "file_extension": ".py",
   "mimetype": "text/x-python",
   "name": "python",
   "nbconvert_exporter": "python",
   "pygments_lexer": "ipython3",
   "version": "3.10.11"
  }
 },
 "nbformat": 4,
 "nbformat_minor": 2
}
